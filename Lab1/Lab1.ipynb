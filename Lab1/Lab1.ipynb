{
  "nbformat": 4,
  "nbformat_minor": 0,
  "metadata": {
    "colab": {
      "name": "Lab1.ipynb",
      "provenance": [],
      "authorship_tag": "ABX9TyMdUHZ64qA2xcrc3rt4Gldb",
      "include_colab_link": true
    },
    "kernelspec": {
      "name": "python3",
      "display_name": "Python 3"
    },
    "accelerator": "GPU"
  },
  "cells": [
    {
      "cell_type": "markdown",
      "metadata": {
        "id": "view-in-github",
        "colab_type": "text"
      },
      "source": [
        "<a href=\"https://colab.research.google.com/github/Isamaoz/CE888/blob/master/Lab1/Lab1.ipynb\" target=\"_parent\"><img src=\"https://colab.research.google.com/assets/colab-badge.svg\" alt=\"Open In Colab\"/></a>"
      ]
    },
    {
      "cell_type": "markdown",
      "metadata": {
        "id": "t9MHoaR_z8Ny",
        "colab_type": "text"
      },
      "source": [
        "#**FIRST LABORATORY**\n",
        "##Isamiri Ortiz Blanco\n"
      ]
    },
    {
      "cell_type": "markdown",
      "metadata": {
        "id": "6X-TO_KR1mjo",
        "colab_type": "text"
      },
      "source": [
        "## Questions to be done during the lab:\n",
        "\n",
        "1. Create a (4 x 2) integer array and print it's attributes\n",
        "\n",
        "2. Create an array of dimension (1,10) and sort it in ascending and descending order\n",
        "\n",
        "3. Convert an 1D array [1 2 3 4 5 6 7 8 9] to 2D array [[1 2 3], [4 5 6], [7 8 9]]\n",
        "\n",
        "4. Stack two arrays of any size horizontally and vertically\n",
        "\n",
        "5. Create two array of same size and find commom elements\n",
        "\n",
        "6. Create a 2D array of 5 by 5 and find the min and max values from each row and each column\n",
        "\n",
        "7. Create an array of size 100 and  compute the mean, median, standard deviation. \n",
        "\n",
        "8. Normalize a 5x5 random matrix \n",
        "\n",
        "9. Consider an array of dimension (4,4,3), how to mulitply it by an array with dimensions (4,4)?\n",
        "\n"
      ]
    },
    {
      "cell_type": "code",
      "metadata": {
        "id": "Rk2fxQoX2qOf",
        "colab_type": "code",
        "outputId": "23820d17-3ca7-4abc-ba28-0d32d3c3bd67",
        "colab": {
          "base_uri": "https://localhost:8080/",
          "height": 229
        }
      },
      "source": [
        "# 1. 4x2 integer array\n",
        "a = np.array([[0, 1],\n",
        "              [2, 3],\n",
        "              [4, 5],\n",
        "              [6, 7]])\n",
        "print(a)"
      ],
      "execution_count": 1,
      "outputs": [
        {
          "output_type": "error",
          "ename": "NameError",
          "evalue": "ignored",
          "traceback": [
            "\u001b[0;31m---------------------------------------------------------------------------\u001b[0m",
            "\u001b[0;31mNameError\u001b[0m                                 Traceback (most recent call last)",
            "\u001b[0;32m<ipython-input-1-0fcf90bb8870>\u001b[0m in \u001b[0;36m<module>\u001b[0;34m()\u001b[0m\n\u001b[0;32m----> 1\u001b[0;31m a = np.array([[0, 1],\n\u001b[0m\u001b[1;32m      2\u001b[0m               \u001b[0;34m[\u001b[0m\u001b[0;36m2\u001b[0m\u001b[0;34m,\u001b[0m \u001b[0;36m3\u001b[0m\u001b[0;34m]\u001b[0m\u001b[0;34m,\u001b[0m\u001b[0;34m\u001b[0m\u001b[0;34m\u001b[0m\u001b[0m\n\u001b[1;32m      3\u001b[0m               \u001b[0;34m[\u001b[0m\u001b[0;36m4\u001b[0m\u001b[0;34m,\u001b[0m \u001b[0;36m5\u001b[0m\u001b[0;34m]\u001b[0m\u001b[0;34m,\u001b[0m\u001b[0;34m\u001b[0m\u001b[0;34m\u001b[0m\u001b[0m\n\u001b[1;32m      4\u001b[0m               [6, 7]])\n\u001b[1;32m      5\u001b[0m \u001b[0mprint\u001b[0m\u001b[0;34m(\u001b[0m\u001b[0ma\u001b[0m\u001b[0;34m)\u001b[0m\u001b[0;34m\u001b[0m\u001b[0;34m\u001b[0m\u001b[0m\n",
            "\u001b[0;31mNameError\u001b[0m: name 'np' is not defined"
          ]
        }
      ]
    },
    {
      "cell_type": "code",
      "metadata": {
        "id": "vRWGE-P43n1z",
        "colab_type": "code",
        "outputId": "738d776d-f6f5-441a-a871-6e830e52b8c9",
        "colab": {
          "base_uri": "https://localhost:8080/",
          "height": 162
        }
      },
      "source": [
        "print(a.shape)"
      ],
      "execution_count": 2,
      "outputs": [
        {
          "output_type": "error",
          "ename": "NameError",
          "evalue": "ignored",
          "traceback": [
            "\u001b[0;31m---------------------------------------------------------------------------\u001b[0m",
            "\u001b[0;31mNameError\u001b[0m                                 Traceback (most recent call last)",
            "\u001b[0;32m<ipython-input-2-048a17e25bce>\u001b[0m in \u001b[0;36m<module>\u001b[0;34m()\u001b[0m\n\u001b[0;32m----> 1\u001b[0;31m \u001b[0mprint\u001b[0m\u001b[0;34m(\u001b[0m\u001b[0ma\u001b[0m\u001b[0;34m.\u001b[0m\u001b[0mshape\u001b[0m\u001b[0;34m)\u001b[0m\u001b[0;34m\u001b[0m\u001b[0;34m\u001b[0m\u001b[0m\n\u001b[0m",
            "\u001b[0;31mNameError\u001b[0m: name 'a' is not defined"
          ]
        }
      ]
    },
    {
      "cell_type": "code",
      "metadata": {
        "id": "K_8n9JUr3PkH",
        "colab_type": "code",
        "colab": {}
      },
      "source": [
        "# 2. array of dimension (1,10) \n",
        "b = np.array([5,6,2,7,12,56,3,1,9,8])\n",
        "print(\"Sorting in ascending order:\")\n",
        "print(np.sort(b))\n",
        "print(\"Sorting in descending order:\")\n",
        "print(-np.sort(-b))\n"
      ],
      "execution_count": 0,
      "outputs": []
    },
    {
      "cell_type": "code",
      "metadata": {
        "id": "FNkvdSOD5MAf",
        "colab_type": "code",
        "colab": {}
      },
      "source": [
        "# 3. Convert an 1D array [1 2 3 4 5 6 7 8 9] to 2D array [[1 2 3], [4 5 6], [7 8 9]]\n",
        "c = np.array([1, 2, 3, 4, 5, 6, 7, 8, 9])\n",
        "print(c)\n",
        "c = np.array([c[0:3],\n",
        "              c[3:6],\n",
        "              c[6:9]])\n",
        "print(c)"
      ],
      "execution_count": 0,
      "outputs": []
    },
    {
      "cell_type": "code",
      "metadata": {
        "id": "O3Rxf8iR8stQ",
        "colab_type": "code",
        "colab": {}
      },
      "source": [
        "# 4. Stack two arrays of any size horizontally and vertically\n",
        "d = np.array([1,2,3,4])\n",
        "e = np.array([5,6,7,8])\n",
        "\n",
        "# Stack horizontally\n",
        "print(np.stack((d,e)))\n",
        "\n",
        "# Stack vertically\n",
        "print(np.stack((d,e), axis=-1))"
      ],
      "execution_count": 0,
      "outputs": []
    },
    {
      "cell_type": "code",
      "metadata": {
        "id": "KcINZ_fI8-An",
        "colab_type": "code",
        "colab": {}
      },
      "source": [
        "# 5. Create two array of same size and find commom elements\n",
        "f = [1,2,3,9,5]\n",
        "g = [5,7,2,9,10]\n",
        "np.intersect1d(f,g)"
      ],
      "execution_count": 0,
      "outputs": []
    },
    {
      "cell_type": "code",
      "metadata": {
        "id": "M22PNZ7F-_iP",
        "colab_type": "code",
        "colab": {}
      },
      "source": [
        "# 6. Create a 2D array of 5 by 5 and find the min and max values from each row and each column\n",
        "x = np.array([[1,2,3,4,5],\n",
        "              [61,87,8,92,10],\n",
        "              [111,2,138,14,15],\n",
        "              [116,57,18,109,20],\n",
        "              [31,2,45,6,0]])\n",
        "#Minimum in rows\n",
        "print(\"Minimum values in rows:\")\n",
        "for y in range(5):\n",
        "  print(np.min(x[y]))\n",
        "print(\"Maximum values in rows:\")  \n",
        "for y in range(5):\n",
        "  print(np.max(x[y]))\n",
        "print(\"Minimum values in columns:\")\n",
        "for y in range(5):\n",
        "  print(np.min(x[:,y]))\n",
        "print(\"Maximum values in columns:\")\n",
        "for y in range(5):\n",
        "  print(np.max(x[:,y]))"
      ],
      "execution_count": 0,
      "outputs": []
    },
    {
      "cell_type": "code",
      "metadata": {
        "id": "XCaoDwO4_QKo",
        "colab_type": "code",
        "colab": {}
      },
      "source": [
        "# 7. Create an array of size 100 and compute the mean, median, standard deviation.\n",
        "h=np.random.rand(1,100)\n",
        "print(h)\n",
        "print(\"Mean of the array:\")\n",
        "print(np.mean(h))\n",
        "print(\"Median of the array:\")\n",
        "print(np.median(h))\n",
        "print(\"Standard deviation of the array:\")\n",
        "print(np.std(h))"
      ],
      "execution_count": 0,
      "outputs": []
    },
    {
      "cell_type": "code",
      "metadata": {
        "id": "e9Va5hgKABAv",
        "colab_type": "code",
        "colab": {}
      },
      "source": [
        "# 8. Normalize a 5x5 random matrix\n",
        "i = np.random.rand(5,5)\n",
        "print(i)\n",
        "i_max, i_min = i.max(), i.min()\n",
        "i = (i - i_min)/(i_max - i_min)\n",
        "print(i)\n",
        "#Use sckit learn to make it easier"
      ],
      "execution_count": 0,
      "outputs": []
    },
    {
      "cell_type": "code",
      "metadata": {
        "id": "SMGa9hEtBBi-",
        "colab_type": "code",
        "colab": {}
      },
      "source": [
        "# 9. Consider an array of dimension (4,4,3), how to mulitply it by an array with dimensions (4,4)?\n",
        "# Getting the transponse of the multidimensional array, so that each row multiplies a column \n",
        "j = np.random.rand(4,4,3)\n",
        "k = np.random.rand(4,4)\n",
        "# print(j)\n",
        "# print(k)\n",
        "# res = j * np.transpose(np.array([k,]*3))\n",
        "# print(res)\n",
        "\n",
        "j * k[:,:,None]"
      ],
      "execution_count": 0,
      "outputs": []
    },
    {
      "cell_type": "code",
      "metadata": {
        "id": "ic7HQJj4vced",
        "colab_type": "code",
        "colab": {}
      },
      "source": [
        ""
      ],
      "execution_count": 0,
      "outputs": []
    }
  ]
}